{
 "cells": [
  {
   "cell_type": "code",
   "execution_count": 3,
   "metadata": {},
   "outputs": [
    {
     "name": "stdout",
     "output_type": "stream",
     "text": [
      "Found 112 files belonging to 2 classes.\n",
      "Using 100 files for validation.\n",
      "10/10 [==============================] - 1s 39ms/step - loss: 15.8564 - accuracy: 0.4500\n",
      "Test accuracy: 0.44999998807907104\n"
     ]
    }
   ],
   "source": [
    "# Load test data\n",
    "from tensorflow.keras.preprocessing import image_dataset_from_directory\n",
    "from keras.models import load_model\n",
    "base_dir = 'dataset'\n",
    "model = load_model('cat.model')\n",
    "test_data = image_dataset_from_directory(base_dir+\"/test\",\n",
    "                                          image_size=(130,130),\n",
    "                                          subset='validation',\n",
    "                                          seed = 1,\n",
    "                                          validation_split=0.9,\n",
    "                                          batch_size= 10)\n",
    "\n",
    "# Evaluate the model on the test data\n",
    "loss, accuracy = model.evaluate(test_data)\n",
    "print(\"Test accuracy:\", accuracy)"
   ]
  },
  {
   "cell_type": "code",
   "execution_count": 4,
   "metadata": {},
   "outputs": [
    {
     "name": "stdout",
     "output_type": "stream",
     "text": [
      "Found 112 files belonging to 2 classes.\n",
      "Using 100 files for validation.\n",
      "10/10 [==============================] - 1s 39ms/step - loss: 37.4279 - accuracy: 0.3800\n",
      "Test accuracy: 0.3799999952316284\n"
     ]
    }
   ],
   "source": [
    "# Load test data\n",
    "from tensorflow.keras.preprocessing import image_dataset_from_directory\n",
    "from keras.models import load_model\n",
    "base_dir = 'dataset'\n",
    "model = load_model('cat.model(1)')\n",
    "test_data = image_dataset_from_directory(base_dir+\"/test\",\n",
    "                                          image_size=(130,130),\n",
    "                                          subset='validation',\n",
    "                                          seed = 1,\n",
    "                                          validation_split=0.9,\n",
    "                                          batch_size= 10)\n",
    "\n",
    "# Evaluate the model on the test data\n",
    "loss, accuracy = model.evaluate(test_data)\n",
    "print(\"Test accuracy:\", accuracy)"
   ]
  },
  {
   "cell_type": "code",
   "execution_count": 1,
   "metadata": {},
   "outputs": [
    {
     "name": "stdout",
     "output_type": "stream",
     "text": [
      "Found 112 files belonging to 2 classes.\n",
      "Using 100 files for validation.\n",
      "10/10 [==============================] - 1s 59ms/step - loss: 0.8155 - accuracy: 0.4800\n",
      "Test accuracy: 0.47999998927116394\n"
     ]
    }
   ],
   "source": [
    "# Load test data\n",
    "from tensorflow.keras.preprocessing import image_dataset_from_directory\n",
    "from keras.models import load_model\n",
    "base_dir = 'dataset'\n",
    "model = load_model('cat.model(2)')\n",
    "test_data = image_dataset_from_directory(base_dir+\"/test\",\n",
    "                                          image_size=(130,130),\n",
    "                                          subset='validation',\n",
    "                                          seed = 1,\n",
    "                                          validation_split=0.9,\n",
    "                                          batch_size= 10)\n",
    "\n",
    "# Evaluate the model on the test data\n",
    "loss, accuracy = model.evaluate(test_data)\n",
    "print(\"Test accuracy:\", accuracy)"
   ]
  },
  {
   "cell_type": "code",
   "execution_count": 2,
   "metadata": {},
   "outputs": [
    {
     "name": "stdout",
     "output_type": "stream",
     "text": [
      "Found 112 files belonging to 2 classes.\n",
      "Using 100 files for validation.\n",
      "10/10 [==============================] - 1s 43ms/step - loss: 2.0018 - accuracy: 0.6700\n",
      "Test accuracy: 0.6700000166893005\n"
     ]
    }
   ],
   "source": [
    "# Load test data\n",
    "from tensorflow.keras.preprocessing import image_dataset_from_directory\n",
    "from keras.models import load_model\n",
    "base_dir = 'dataset'\n",
    "model = load_model('cat.model(newOptimiser)')\n",
    "test_data = image_dataset_from_directory(base_dir+\"/test\",\n",
    "                                          image_size=(130,130),\n",
    "                                          subset='validation',\n",
    "                                          seed = 1,\n",
    "                                          validation_split=0.9,\n",
    "                                          batch_size= 10)\n",
    "\n",
    "# Evaluate the model on the test data\n",
    "loss, accuracy = model.evaluate(test_data)\n",
    "print(\"Test accuracy:\", accuracy)"
   ]
  },
  {
   "cell_type": "code",
   "execution_count": 3,
   "metadata": {},
   "outputs": [
    {
     "name": "stdout",
     "output_type": "stream",
     "text": [
      "Found 112 files belonging to 2 classes.\n",
      "Using 100 files for validation.\n",
      "10/10 [==============================] - 1s 51ms/step - loss: 2.7363 - accuracy: 0.7200\n",
      "Test accuracy: 0.7200000286102295\n"
     ]
    }
   ],
   "source": [
    "# Load test data\n",
    "from tensorflow.keras.preprocessing import image_dataset_from_directory\n",
    "from keras.models import load_model\n",
    "base_dir = 'dataset'\n",
    "model = load_model('cat.model(newOptimiser1)')\n",
    "test_data = image_dataset_from_directory(base_dir+\"/test\",\n",
    "                                          image_size=(130,130),\n",
    "                                          subset='validation',\n",
    "                                          seed = 1,\n",
    "                                          validation_split=0.9,\n",
    "                                          batch_size= 10)\n",
    "\n",
    "# Evaluate the model on the test data\n",
    "loss, accuracy = model.evaluate(test_data)\n",
    "print(\"Test accuracy:\", accuracy)"
   ]
  },
  {
   "cell_type": "code",
   "execution_count": 2,
   "metadata": {},
   "outputs": [
    {
     "name": "stdout",
     "output_type": "stream",
     "text": [
      "Found 112 files belonging to 2 classes.\n",
      "Using 100 files for validation.\n",
      "10/10 [==============================] - 1s 77ms/step - loss: 2.0770 - accuracy: 0.7700\n",
      "Test accuracy: 0.7699999809265137\n"
     ]
    }
   ],
   "source": [
    "from tensorflow.keras.preprocessing import image_dataset_from_directory\n",
    "from keras.models import load_model\n",
    "base_dir = 'dataset'\n",
    "model = load_model('cat.model(newOptimiser2)')\n",
    "test_data = image_dataset_from_directory(base_dir+\"/test\",\n",
    "                                          image_size=(130,130),\n",
    "                                          subset='validation',\n",
    "                                          seed = 1,\n",
    "                                          validation_split=0.9,\n",
    "                                          batch_size= 10,\n",
    "                                          label_mode='categorical'\n",
    "                )\n",
    "\n",
    "# Evaluate the model on the test data\n",
    "loss, accuracy = model.evaluate(test_data)\n",
    "print(\"Test accuracy:\", accuracy)"
   ]
  },
  {
   "cell_type": "code",
   "execution_count": 7,
   "metadata": {},
   "outputs": [
    {
     "name": "stdout",
     "output_type": "stream",
     "text": [
      "Found 112 files belonging to 2 classes.\n",
      "Using 100 files for validation.\n",
      "10/10 [==============================] - 1s 42ms/step - loss: 16.4250 - accuracy: 0.5900\n",
      "Test accuracy: 0.5899999737739563\n"
     ]
    }
   ],
   "source": [
    "# Load test data\n",
    "from tensorflow.keras.preprocessing import image_dataset_from_directory\n",
    "from keras.models import load_model\n",
    "base_dir = 'dataset'\n",
    "model = load_model('cat.model(imbalanced_dataset)')\n",
    "test_data = image_dataset_from_directory(base_dir+\"/test\",\n",
    "                                          image_size=(150,150),\n",
    "                                          subset='validation',\n",
    "                                          seed = 1,\n",
    "                                          validation_split=0.9,\n",
    "                                          batch_size= 10)\n",
    "\n",
    "# Evaluate the model on the test data\n",
    "loss, accuracy = model.evaluate(test_data)\n",
    "print(\"Test accuracy:\", accuracy)"
   ]
  },
  {
   "cell_type": "code",
   "execution_count": 8,
   "metadata": {},
   "outputs": [
    {
     "name": "stdout",
     "output_type": "stream",
     "text": [
      "Found 112 files belonging to 2 classes.\n",
      "Using 100 files for validation.\n",
      "10/10 [==============================] - 1s 51ms/step - loss: 8.3455 - accuracy: 0.5900\n",
      "Test accuracy: 0.5899999737739563\n"
     ]
    }
   ],
   "source": [
    "# Load test data\n",
    "from tensorflow.keras.preprocessing import image_dataset_from_directory\n",
    "from keras.models import load_model\n",
    "base_dir = 'dataset'\n",
    "model = load_model('cat.model(imbalanced_dataset_newOptimiser)')\n",
    "test_data = image_dataset_from_directory(base_dir+\"/test\",\n",
    "                                          image_size=(150,150),\n",
    "                                          subset='validation',\n",
    "                                          seed = 1,\n",
    "                                          validation_split=0.9,\n",
    "                                          batch_size= 10)\n",
    "\n",
    "# Evaluate the model on the test data\n",
    "loss, accuracy = model.evaluate(test_data)\n",
    "print(\"Test accuracy:\", accuracy)"
   ]
  }
 ],
 "metadata": {
  "kernelspec": {
   "display_name": "Python 3",
   "language": "python",
   "name": "python3"
  },
  "language_info": {
   "codemirror_mode": {
    "name": "ipython",
    "version": 3
   },
   "file_extension": ".py",
   "mimetype": "text/x-python",
   "name": "python",
   "nbconvert_exporter": "python",
   "pygments_lexer": "ipython3",
   "version": "3.10.4"
  },
  "orig_nbformat": 4,
  "vscode": {
   "interpreter": {
    "hash": "faee8b4212e6789382cf0558b2c237e413721f41f0d22c178535599a903395af"
   }
  }
 },
 "nbformat": 4,
 "nbformat_minor": 2
}
